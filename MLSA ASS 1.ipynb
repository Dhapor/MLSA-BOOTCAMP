{
 "cells": [
  {
   "cell_type": "markdown",
   "metadata": {},
   "source": [
    "# Intermediate level\n",
    "##### Objective: Using  variable, list, dictionary, operator, if statement to solve real problem\n",
    "\n",
    "##### 1. Task: If Statement Problem: Credit Card Validation\n",
    "Problem: Implement a function that determines whether a given credit card number is valid using Luhn's algorithm.\n",
    "\n",
    "Instructions:\n",
    "\n",
    "Luhn's algorithm is a simple checksum formula used to validate credit card numbers.\n",
    "Reverse the digits of the credit card number.\n",
    "Double every other digit, starting from the second digit.\n",
    "If any doubled digit is greater than 9, subtract 9 from it.\n",
    "Add all the digits together.\n",
    "If the sum is divisible by 10, the credit card number is valid. Otherwise, it's invalid.\n",
    "\n",
    "\n"
   ]
  },
  {
   "cell_type": "code",
   "execution_count": 2,
   "metadata": {},
   "outputs": [
    {
     "name": "stdout",
     "output_type": "stream",
     "text": [
      "The credit card number is invalid.\n"
     ]
    }
   ],
   "source": [
    "def validate_credit_card():\n",
    "    # Ask user to input the card number\n",
    "    card_number = input(\"Enter your credit card number: \")\n",
    "    \n",
    "    # Reverse the credit card number and convert it to a list of integers\n",
    "    card_number = [int(digit) for digit in card_number[::-1]]\n",
    "    \n",
    "    # Double every second digit starting from index 1\n",
    "    for i in range(1, len(card_number), 2):\n",
    "        card_number[i] *= 2\n",
    "        if card_number[i] > 9:\n",
    "            card_number[i] -= 9\n",
    "    \n",
    "    # Sum all the digits\n",
    "    total_sum = sum(card_number)\n",
    "    \n",
    "    # Check if the total sum is divisible by 10\n",
    "    if total_sum % 10 == 0:\n",
    "        print(\"The credit card number is valid.\")\n",
    "    else:\n",
    "        print(\"The credit card number is invalid.\")\n",
    "\n",
    "# Call the function\n",
    "validate_credit_card()\n"
   ]
  }
 ],
 "metadata": {
  "kernelspec": {
   "display_name": "Python 3",
   "language": "python",
   "name": "python3"
  },
  "language_info": {
   "codemirror_mode": {
    "name": "ipython",
    "version": 3
   },
   "file_extension": ".py",
   "mimetype": "text/x-python",
   "name": "python",
   "nbconvert_exporter": "python",
   "pygments_lexer": "ipython3",
   "version": "3.11.9"
  }
 },
 "nbformat": 4,
 "nbformat_minor": 2
}
